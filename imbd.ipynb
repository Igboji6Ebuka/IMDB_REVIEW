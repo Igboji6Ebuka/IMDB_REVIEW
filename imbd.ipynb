{
 "cells": [
  {
   "cell_type": "code",
   "execution_count": 1,
   "metadata": {},
   "outputs": [],
   "source": [
    "import pandas as pd\n",
    "from sklearn.model_selection import train_test_split\n",
    "from sklearn.feature_extraction.text import CountVectorizer\n",
    "from sklearn.naive_bayes import MultinomialNB\n",
    "from sklearn.metrics import confusion_matrix, classification_report\n",
    "import nltk\n",
    "from nltk.corpus import stopwords\n",
    "from nltk.stem import PorterStemmer\n",
    "from nltk.tokenize import word_tokenize\n",
    "import re\n",
    "import matplotlib.pyplot as plt\n",
    "import warnings\n",
    "warnings.filterwarnings('ignore')"
   ]
  },
  {
   "cell_type": "markdown",
   "metadata": {},
   "source": [
    "HERE I WILL OPEN THE SPECIFIC FILE LOCATION WHERE MY DATASET IS LOCATED USING PANDAS LIBRARY AND ANALYSIS THE DATA TO PREPROCESSING STAGE"
   ]
  },
  {
   "cell_type": "code",
   "execution_count": 2,
   "metadata": {},
   "outputs": [
    {
     "name": "stdout",
     "output_type": "stream",
     "text": [
      "(50000, 2)\n"
     ]
    }
   ],
   "source": [
    "# read the csv file into the pandas dataframe, df\n",
    "df = pd.read_csv(r'C:\\Users\\igboj\\Desktop\\datasets\\IMDB Dataset.csv',header=0,sep=\",\")\n",
    "\n",
    "# print the size of the dataframe\n",
    "print(df.shape)"
   ]
  },
  {
   "cell_type": "code",
   "execution_count": 3,
   "metadata": {},
   "outputs": [
    {
     "data": {
      "text/html": [
       "<div>\n",
       "<style scoped>\n",
       "    .dataframe tbody tr th:only-of-type {\n",
       "        vertical-align: middle;\n",
       "    }\n",
       "\n",
       "    .dataframe tbody tr th {\n",
       "        vertical-align: top;\n",
       "    }\n",
       "\n",
       "    .dataframe thead th {\n",
       "        text-align: right;\n",
       "    }\n",
       "</style>\n",
       "<table border=\"1\" class=\"dataframe\">\n",
       "  <thead>\n",
       "    <tr style=\"text-align: right;\">\n",
       "      <th></th>\n",
       "      <th>review</th>\n",
       "      <th>sentiment</th>\n",
       "    </tr>\n",
       "  </thead>\n",
       "  <tbody>\n",
       "    <tr>\n",
       "      <th>16946</th>\n",
       "      <td>This was a horrible film! I gave it 2 Points, ...</td>\n",
       "      <td>negative</td>\n",
       "    </tr>\n",
       "    <tr>\n",
       "      <th>16719</th>\n",
       "      <td>The widower family man Dan Burns (Steve Carell...</td>\n",
       "      <td>positive</td>\n",
       "    </tr>\n",
       "    <tr>\n",
       "      <th>27113</th>\n",
       "      <td>I once lived with a roommate who attempted sui...</td>\n",
       "      <td>positive</td>\n",
       "    </tr>\n",
       "    <tr>\n",
       "      <th>22089</th>\n",
       "      <td>Payback is the game being played in this drama...</td>\n",
       "      <td>negative</td>\n",
       "    </tr>\n",
       "    <tr>\n",
       "      <th>44872</th>\n",
       "      <td>The film portrays France's unresolved problems...</td>\n",
       "      <td>negative</td>\n",
       "    </tr>\n",
       "    <tr>\n",
       "      <th>46478</th>\n",
       "      <td>BLACK WATER has to be one of the best Australi...</td>\n",
       "      <td>positive</td>\n",
       "    </tr>\n",
       "    <tr>\n",
       "      <th>956</th>\n",
       "      <td>Great premise, poor execution. Cast of great a...</td>\n",
       "      <td>negative</td>\n",
       "    </tr>\n",
       "    <tr>\n",
       "      <th>24642</th>\n",
       "      <td>No spoilers here but I have been a fan since W...</td>\n",
       "      <td>negative</td>\n",
       "    </tr>\n",
       "    <tr>\n",
       "      <th>8172</th>\n",
       "      <td>Sui generis. Folks, I'm not going to lie to yo...</td>\n",
       "      <td>positive</td>\n",
       "    </tr>\n",
       "    <tr>\n",
       "      <th>35506</th>\n",
       "      <td>I went into this with my hopes up, by twenty m...</td>\n",
       "      <td>negative</td>\n",
       "    </tr>\n",
       "  </tbody>\n",
       "</table>\n",
       "</div>"
      ],
      "text/plain": [
       "                                                  review sentiment\n",
       "16946  This was a horrible film! I gave it 2 Points, ...  negative\n",
       "16719  The widower family man Dan Burns (Steve Carell...  positive\n",
       "27113  I once lived with a roommate who attempted sui...  positive\n",
       "22089  Payback is the game being played in this drama...  negative\n",
       "44872  The film portrays France's unresolved problems...  negative\n",
       "46478  BLACK WATER has to be one of the best Australi...  positive\n",
       "956    Great premise, poor execution. Cast of great a...  negative\n",
       "24642  No spoilers here but I have been a fan since W...  negative\n",
       "8172   Sui generis. Folks, I'm not going to lie to yo...  positive\n",
       "35506  I went into this with my hopes up, by twenty m...  negative"
      ]
     },
     "metadata": {},
     "output_type": "display_data"
    }
   ],
   "source": [
    "# print a random sample of 10 rows from the dataframe\n",
    "random_state = 54321\n",
    "display(df.sample(n=10, random_state=random_state))"
   ]
  },
  {
   "cell_type": "code",
   "execution_count": 4,
   "metadata": {},
   "outputs": [
    {
     "name": "stdout",
     "output_type": "stream",
     "text": [
      "<class 'pandas.core.frame.DataFrame'>\n",
      "RangeIndex: 50000 entries, 0 to 49999\n",
      "Data columns (total 2 columns):\n",
      " #   Column     Non-Null Count  Dtype \n",
      "---  ------     --------------  ----- \n",
      " 0   review     50000 non-null  object\n",
      " 1   sentiment  50000 non-null  object\n",
      "dtypes: object(2)\n",
      "memory usage: 781.4+ KB\n",
      "None\n"
     ]
    }
   ],
   "source": [
    "# print summary info on each column of the dataframe\n",
    "print(df.info())"
   ]
  },
  {
   "cell_type": "code",
   "execution_count": 5,
   "metadata": {},
   "outputs": [
    {
     "name": "stdout",
     "output_type": "stream",
     "text": [
      "review       0\n",
      "sentiment    0\n",
      "dtype: int64\n"
     ]
    }
   ],
   "source": [
    "print(df.isna().sum().sort_values(ascending=False))"
   ]
  },
  {
   "cell_type": "code",
   "execution_count": 6,
   "metadata": {},
   "outputs": [
    {
     "name": "stdout",
     "output_type": "stream",
     "text": [
      "['positive' 'negative']\n"
     ]
    }
   ],
   "source": [
    "print(df.sentiment.unique())"
   ]
  },
  {
   "cell_type": "code",
   "execution_count": 7,
   "metadata": {},
   "outputs": [
    {
     "data": {
      "text/plain": [
       "sentiment\n",
       "positive    0.5\n",
       "negative    0.5\n",
       "Name: proportion, dtype: float64"
      ]
     },
     "execution_count": 7,
     "metadata": {},
     "output_type": "execute_result"
    }
   ],
   "source": [
    "# print the proportion of positive and negative sentiments in the data set\n",
    "df.sentiment.value_counts(ascending=False, normalize=True)"
   ]
  },
  {
   "cell_type": "markdown",
   "metadata": {},
   "source": [
    "DATA VISULISATION STAGE TO CHECK THE DISTRIBUTION OF THE REVIEWS "
   ]
  },
  {
   "cell_type": "code",
   "execution_count": 8,
   "metadata": {},
   "outputs": [],
   "source": [
    "import matplotlib.pyplot as plt\n",
    "import seaborn as sns\n",
    "\n",
    "sns.set_theme(style='ticks', palette='BrBG')"
   ]
  },
  {
   "cell_type": "code",
   "execution_count": 9,
   "metadata": {},
   "outputs": [
    {
     "data": {
      "image/png": "[encoded data removed]",
      "text/plain": [
       "<Figure size 640x480 with 1 Axes>"
      ]
     },
     "metadata": {},
     "output_type": "display_data"
    }
   ],
   "source": [
    "sns.countplot(data=df, y='sentiment')\\\n",
    "   .set(title='Count of Positive vs Negative Reviews')\n",
    "\n",
    "plt.show()"
   ]
  },
  {
   "cell_type": "code",
   "execution_count": 10,
   "metadata": {},
   "outputs": [
    {
     "name": "stdout",
     "output_type": "stream",
     "text": [
      "This was a horrible film! I gave it 2 Points, one for Angelina Jolie and a second one for the beautiful Porsche in the beginning... Other than that the story just plain sucked and cars racing through cities wasn't so new in 1970. The Happyend was probably what annoyed me the most, seldomly seen anything so constructed!\n"
     ]
    }
   ],
   "source": [
    "def print_random_review() -> None:\n",
    "    # select and print a random review in full\n",
    "    random_review = df.review.sample(n=1, random_state=random_state).values\n",
    "    print(random_review[0])\n",
    "\n",
    "print_random_review()"
   ]
  },
  {
   "cell_type": "markdown",
   "metadata": {},
   "source": [
    "DATA PREPROCESSING AND REMOVAL OF STOP WORDS "
   ]
  },
  {
   "cell_type": "code",
   "execution_count": 11,
   "metadata": {},
   "outputs": [
    {
     "name": "stdout",
     "output_type": "stream",
     "text": [
      "This was a horrible film! I gave it 2 Points, one for Angelina Jolie and a second one for the beautiful Porsche in the beginning... Other than that the story just plain sucked and cars racing through cities wasn't so new in 1970. The Happyend was probably what annoyed me the most, seldomly seen anything so constructed!\n"
     ]
    }
   ],
   "source": [
    "import re\n",
    "\n",
    "def remove_html_tags(text: str) -> str:\n",
    "    # find and replace html tag patterns in text\n",
    "    pattern = re.compile('<.*?>')\n",
    "    return pattern.sub(r'', text)\n",
    "\n",
    "# apply the function to reviews\n",
    "df['review'] = df.review.apply(remove_html_tags)\n",
    "\n",
    "print_random_review()"
   ]
  },
  {
   "cell_type": "code",
   "execution_count": 12,
   "metadata": {},
   "outputs": [
    {
     "name": "stdout",
     "output_type": "stream",
     "text": [
      "This was a horrible film! I gave it 2 Points, one for Angelina Jolie and a second one for the beautiful Porsche in the beginning... Other than that the story just plain sucked and cars racing through cities wasn't so new in 1970. The Happyend was probably what annoyed me the most, seldomly seen anything so constructed!\n"
     ]
    }
   ],
   "source": [
    "def remove_urls(text: str) -> str:\n",
    "    # find and replace url patterns in text\n",
    "    pattern= re.compile(r'https?://\\S+|www\\.\\S+', flags=re.IGNORECASE)\n",
    "    return pattern.sub(r'', text)\n",
    "\n",
    "# apply the function to reviews\n",
    "df['review'] = df.review.apply(remove_urls)\n",
    "\n",
    "print_random_review()"
   ]
  },
  {
   "cell_type": "code",
   "execution_count": 13,
   "metadata": {},
   "outputs": [
    {
     "name": "stdout",
     "output_type": "stream",
     "text": [
      "this was a horrible film! i gave it 2 points, one for angelina jolie and a second one for the beautiful porsche in the beginning... other than that the story just plain sucked and cars racing through cities wasn't so new in 1970. the happyend was probably what annoyed me the most, seldomly seen anything so constructed!\n"
     ]
    }
   ],
   "source": [
    "df['review'] = df.review.str.lower()\n",
    "\n",
    "print_random_review()"
   ]
  },
  {
   "cell_type": "code",
   "execution_count": 14,
   "metadata": {},
   "outputs": [
    {
     "name": "stderr",
     "output_type": "stream",
     "text": [
      "[nltk_data] Downloading package stopwords to\n",
      "[nltk_data]     C:\\Users\\igboj\\AppData\\Roaming\\nltk_data...\n",
      "[nltk_data]   Package stopwords is already up-to-date!\n"
     ]
    },
    {
     "data": {
      "text/plain": [
       "True"
      ]
     },
     "execution_count": 14,
     "metadata": {},
     "output_type": "execute_result"
    }
   ],
   "source": [
    "import nltk\n",
    "from nltk.corpus import stopwords\n",
    "\n",
    "nltk.download('stopwords')"
   ]
  },
  {
   "cell_type": "code",
   "execution_count": 15,
   "metadata": {},
   "outputs": [
    {
     "name": "stderr",
     "output_type": "stream",
     "text": [
      "'unzip' is not recognized as an internal or external command,\n",
      "operable program or batch file.\n"
     ]
    }
   ],
   "source": [
    "!unzip /usr/share/nltk_data/corpora/wordnet.zip -d /usr/share/nltk_data/corpora/"
   ]
  },
  {
   "cell_type": "code",
   "execution_count": 16,
   "metadata": {},
   "outputs": [
    {
     "name": "stdout",
     "output_type": "stream",
     "text": [
      "{'him', 'now', 'because', 'them', 'more', 'should', 'm', 'you', \"hadn't\", 'our', \"should've\", 're', 'as', 'other', 'such', 'by', 'few', 'then', 'no', 'through', 'does', 'from', 'over', 'any', 'hasn', 'it', 'yours', 'these', 'a', 'that', 'which', 'if', 'am', 'they', 'myself', 'herself', 'didn', 's', 'not', \"doesn't\", 'are', 'was', \"won't\", 'while', 'itself', 'being', 'when', 'her', \"you've\", 'me', 'we', 'my', 'for', 'd', \"haven't\", 'yourselves', 'against', \"shan't\", 'only', 'be', \"you'll\", 'how', 'each', 'wasn', 'y', 'did', \"you'd\", 'he', 'doing', 'll', 'do', 'below', 'during', 'shouldn', \"shouldn't\", 'at', 'with', 'themselves', \"aren't\", 'what', 'were', 'i', 'up', 'whom', \"hasn't\", \"mightn't\", 've', 'to', 'wouldn', 'between', 'the', 'above', 'own', 'further', 'out', 'and', 'shan', 'who', 'where', 'theirs', 'mightn', 'very', \"that'll\", 'had', 'so', 'an', 'mustn', \"weren't\", 'o', 'down', 'been', 'or', 'there', 'can', \"isn't\", \"wasn't\", 'himself', 'most', \"she's\", 'ma', 'before', 'his', 'having', 'their', 'but', 'all', 'couldn', 'ain', 'too', 'off', 'ours', 'again', \"didn't\", 'its', 'nor', \"mustn't\", 'isn', \"it's\", \"you're\", 'is', 'into', 'same', 'she', 'needn', 'aren', 'haven', 'just', 'will', 'weren', 'under', \"don't\", 'has', 'hadn', 'on', 'those', 'don', 'than', \"needn't\", \"wouldn't\", 'some', 't', 'of', 'hers', 'after', 'this', 'about', 'your', 'once', 'why', 'yourself', 'until', 'ourselves', 'doesn', 'in', 'both', \"couldn't\", 'won', 'have', 'here'}\n",
      "horrible film! gave 2 points, one angelina jolie second one beautiful porsche beginning... story plain sucked cars racing cities new 1970. happyend probably annoyed most, seldomly seen anything constructed!\n"
     ]
    }
   ],
   "source": [
    "stop_words_set = set(stopwords.words('english'))\n",
    "\n",
    "print(stop_words_set)\n",
    "\n",
    "def remove_stop_words(text: str) -> str:\n",
    "    # splits text into list or words, and iterates through to\n",
    "    # return only words that are not in stop_words_set\n",
    "    words = [word for word in text.split() if word not in stop_words_set]\n",
    "    return \" \".join(words)\n",
    "\n",
    "df['review'] = df.review.apply(remove_stop_words)\n",
    "\n",
    "print_random_review()"
   ]
  },
  {
   "cell_type": "code",
   "execution_count": 17,
   "metadata": {},
   "outputs": [
    {
     "name": "stdout",
     "output_type": "stream",
     "text": [
      "horrible film gave 2 points one angelina jolie second one beautiful porsche beginning story plain sucked cars racing cities new 1970 happyend probably annoyed most seldomly seen anything constructed\n"
     ]
    }
   ],
   "source": [
    "import string\n",
    "\n",
    "def remove_punctuations(text: str) -> str:\n",
    "    return text.translate(str.maketrans('', '', string.punctuation))\n",
    "\n",
    "# apply the function to reviews\n",
    "df['review'] = df.review.apply(remove_punctuations)\n",
    "\n",
    "print_random_review()"
   ]
  },
  {
   "cell_type": "code",
   "execution_count": 18,
   "metadata": {},
   "outputs": [
    {
     "name": "stdout",
     "output_type": "stream",
     "text": [
      "horrible film gave  points one angelina jolie second one beautiful porsche beginning story plain sucked cars racing cities new  happyend probably annoyed most seldomly seen anything constructed\n"
     ]
    }
   ],
   "source": [
    "df['review'] = df.review.str.replace(r'\\d+', r'', regex=True)\n",
    "\n",
    "print_random_review()"
   ]
  },
  {
   "cell_type": "code",
   "execution_count": 19,
   "metadata": {},
   "outputs": [
    {
     "name": "stderr",
     "output_type": "stream",
     "text": [
      "[nltk_data] Downloading package wordnet to\n",
      "[nltk_data]     C:\\Users\\igboj\\AppData\\Roaming\\nltk_data...\n",
      "[nltk_data]   Package wordnet is already up-to-date!\n"
     ]
    },
    {
     "name": "stdout",
     "output_type": "stream",
     "text": [
      "horrible film gave point one angelina jolie second one beautiful porsche beginning story plain sucked car racing city new happyend probably annoyed most seldomly seen anything constructed\n"
     ]
    }
   ],
   "source": [
    "from textblob import Word\n",
    "\n",
    "nltk.download('wordnet')\n",
    "\n",
    "def lemmatize_words(text: str) -> str:\n",
    "    words = [Word(word).lemmatize() for word in text.split()]\n",
    "    return \" \".join(words)\n",
    "\n",
    "# apply function to review\n",
    "df['review'] = df.review.apply(lemmatize_words)\n",
    "\n",
    "print_random_review()"
   ]
  },
  {
   "cell_type": "code",
   "execution_count": 20,
   "metadata": {},
   "outputs": [
    {
     "data": {
      "text/html": [
       "<div>\n",
       "<style scoped>\n",
       "    .dataframe tbody tr th:only-of-type {\n",
       "        vertical-align: middle;\n",
       "    }\n",
       "\n",
       "    .dataframe tbody tr th {\n",
       "        vertical-align: top;\n",
       "    }\n",
       "\n",
       "    .dataframe thead th {\n",
       "        text-align: right;\n",
       "    }\n",
       "</style>\n",
       "<table border=\"1\" class=\"dataframe\">\n",
       "  <thead>\n",
       "    <tr style=\"text-align: right;\">\n",
       "      <th></th>\n",
       "      <th>review</th>\n",
       "      <th>sentiment</th>\n",
       "    </tr>\n",
       "  </thead>\n",
       "  <tbody>\n",
       "    <tr>\n",
       "      <th>0</th>\n",
       "      <td>one reviewer mentioned watching oz episode hoo...</td>\n",
       "      <td>1</td>\n",
       "    </tr>\n",
       "    <tr>\n",
       "      <th>1</th>\n",
       "      <td>wonderful little production filming technique ...</td>\n",
       "      <td>1</td>\n",
       "    </tr>\n",
       "    <tr>\n",
       "      <th>2</th>\n",
       "      <td>thought wonderful way spend time hot summer we...</td>\n",
       "      <td>1</td>\n",
       "    </tr>\n",
       "    <tr>\n",
       "      <th>3</th>\n",
       "      <td>basically there family little boy jake think t...</td>\n",
       "      <td>0</td>\n",
       "    </tr>\n",
       "    <tr>\n",
       "      <th>4</th>\n",
       "      <td>petter matteis love time money visually stunni...</td>\n",
       "      <td>1</td>\n",
       "    </tr>\n",
       "  </tbody>\n",
       "</table>\n",
       "</div>"
      ],
      "text/plain": [
       "                                              review  sentiment\n",
       "0  one reviewer mentioned watching oz episode hoo...          1\n",
       "1  wonderful little production filming technique ...          1\n",
       "2  thought wonderful way spend time hot summer we...          1\n",
       "3  basically there family little boy jake think t...          0\n",
       "4  petter matteis love time money visually stunni...          1"
      ]
     },
     "execution_count": 20,
     "metadata": {},
     "output_type": "execute_result"
    }
   ],
   "source": [
    "sentiment_map = {'positive':1, 'negative':0}\n",
    "\n",
    "df['sentiment'] = df.sentiment.replace(sentiment_map).astype(int)\n",
    "\n",
    "df.head()"
   ]
  },
  {
   "cell_type": "markdown",
   "metadata": {},
   "source": [
    "MODEL BULIDING \n",
    "Forecasting whether a review's sentiment leans towards positivity or negativity presents a Natural Language Processing hurdle that lends itself to solutions via either a binary classification approach or deep learning techniques.\n",
    "\n",
    "In tackling this task, I aim to investigate employing the Multinomial Naive Bayes Classifier as the foundational model, contrasting it with a Long Short-Term Memory (LSTM) based TensorFlow model.\n",
    "\n",
    "Initially, we partition the dataset into training and test sets, allocating 70% for training and 30% for testing while maintaining the distribution of the target variable."
   ]
  },
  {
   "cell_type": "code",
   "execution_count": 21,
   "metadata": {},
   "outputs": [],
   "source": [
    "from sklearn.model_selection import train_test_split\n",
    "\n",
    "x_train, x_test, y_train, y_test = train_test_split(\n",
    "    df.review.values,\n",
    "    df.sentiment.values,\n",
    "    test_size=.3,\n",
    "    random_state=random_state,\n",
    "    stratify=df.sentiment.values\n",
    ")"
   ]
  },
  {
   "cell_type": "code",
   "execution_count": 22,
   "metadata": {},
   "outputs": [],
   "source": [
    "from sklearn.feature_extraction.text import CountVectorizer\n",
    "\n",
    "# Initialize the CountVectorizer\n",
    "vectorizer = CountVectorizer()\n",
    "\n",
    "# Fit the vectorizer on the training set and transform them into feature vectors\n",
    "X_train = vectorizer.fit_transform(x_train)\n",
    "\n",
    "# Transform the test set into feature vectors\n",
    "X_test = vectorizer.transform(x_test)"
   ]
  },
  {
   "cell_type": "code",
   "execution_count": 23,
   "metadata": {},
   "outputs": [
    {
     "data": {
      "text/html": [
       "<style>#sk-container-id-1 {color: black;}#sk-container-id-1 pre{padding: 0;}#sk-container-id-1 div.sk-toggleable {background-color: white;}#sk-container-id-1 label.sk-toggleable__label {cursor: pointer;display: block;width: 100%;margin-bottom: 0;padding: 0.3em;box-sizing: border-box;text-align: center;}#sk-container-id-1 label.sk-toggleable__label-arrow:before {content: \"▸\";float: left;margin-right: 0.25em;color: #696969;}#sk-container-id-1 label.sk-toggleable__label-arrow:hover:before {color: black;}#sk-container-id-1 div.sk-estimator:hover label.sk-toggleable__label-arrow:before {color: black;}#sk-container-id-1 div.sk-toggleable__content {max-height: 0;max-width: 0;overflow: hidden;text-align: left;background-color: #f0f8ff;}#sk-container-id-1 div.sk-toggleable__content pre {margin: 0.2em;color: black;border-radius: 0.25em;background-color: #f0f8ff;}#sk-container-id-1 input.sk-toggleable__control:checked~div.sk-toggleable__content {max-height: 200px;max-width: 100%;overflow: auto;}#sk-container-id-1 input.sk-toggleable__control:checked~label.sk-toggleable__label-arrow:before {content: \"▾\";}#sk-container-id-1 div.sk-estimator input.sk-toggleable__control:checked~label.sk-toggleable__label {background-color: #d4ebff;}#sk-container-id-1 div.sk-label input.sk-toggleable__control:checked~label.sk-toggleable__label {background-color: #d4ebff;}#sk-container-id-1 input.sk-hidden--visually {border: 0;clip: rect(1px 1px 1px 1px);clip: rect(1px, 1px, 1px, 1px);height: 1px;margin: -1px;overflow: hidden;padding: 0;position: absolute;width: 1px;}#sk-container-id-1 div.sk-estimator {font-family: monospace;background-color: #f0f8ff;border: 1px dotted black;border-radius: 0.25em;box-sizing: border-box;margin-bottom: 0.5em;}#sk-container-id-1 div.sk-estimator:hover {background-color: #d4ebff;}#sk-container-id-1 div.sk-parallel-item::after {content: \"\";width: 100%;border-bottom: 1px solid gray;flex-grow: 1;}#sk-container-id-1 div.sk-label:hover label.sk-toggleable__label {background-color: #d4ebff;}#sk-container-id-1 div.sk-serial::before {content: \"\";position: absolute;border-left: 1px solid gray;box-sizing: border-box;top: 0;bottom: 0;left: 50%;z-index: 0;}#sk-container-id-1 div.sk-serial {display: flex;flex-direction: column;align-items: center;background-color: white;padding-right: 0.2em;padding-left: 0.2em;position: relative;}#sk-container-id-1 div.sk-item {position: relative;z-index: 1;}#sk-container-id-1 div.sk-parallel {display: flex;align-items: stretch;justify-content: center;background-color: white;position: relative;}#sk-container-id-1 div.sk-item::before, #sk-container-id-1 div.sk-parallel-item::before {content: \"\";position: absolute;border-left: 1px solid gray;box-sizing: border-box;top: 0;bottom: 0;left: 50%;z-index: -1;}#sk-container-id-1 div.sk-parallel-item {display: flex;flex-direction: column;z-index: 1;position: relative;background-color: white;}#sk-container-id-1 div.sk-parallel-item:first-child::after {align-self: flex-end;width: 50%;}#sk-container-id-1 div.sk-parallel-item:last-child::after {align-self: flex-start;width: 50%;}#sk-container-id-1 div.sk-parallel-item:only-child::after {width: 0;}#sk-container-id-1 div.sk-dashed-wrapped {border: 1px dashed gray;margin: 0 0.4em 0.5em 0.4em;box-sizing: border-box;padding-bottom: 0.4em;background-color: white;}#sk-container-id-1 div.sk-label label {font-family: monospace;font-weight: bold;display: inline-block;line-height: 1.2em;}#sk-container-id-1 div.sk-label-container {text-align: center;}#sk-container-id-1 div.sk-container {/* jupyter's `normalize.less` sets `[hidden] { display: none; }` but bootstrap.min.css set `[hidden] { display: none !important; }` so we also need the `!important` here to be able to override the default hidden behavior on the sphinx rendered scikit-learn.org. See: https://github.com/scikit-learn/scikit-learn/issues/21755 */display: inline-block !important;position: relative;}#sk-container-id-1 div.sk-text-repr-fallback {display: none;}</style><div id=\"sk-container-id-1\" class=\"sk-top-container\"><div class=\"sk-text-repr-fallback\"><pre>MultinomialNB()</pre><b>In a Jupyter environment, please rerun this cell to show the HTML representation or trust the notebook. <br />On GitHub, the HTML representation is unable to render, please try loading this page with nbviewer.org.</b></div><div class=\"sk-container\" hidden><div class=\"sk-item\"><div class=\"sk-estimator sk-toggleable\"><input class=\"sk-toggleable__control sk-hidden--visually\" id=\"sk-estimator-id-1\" type=\"checkbox\" checked><label for=\"sk-estimator-id-1\" class=\"sk-toggleable__label sk-toggleable__label-arrow\">MultinomialNB</label><div class=\"sk-toggleable__content\"><pre>MultinomialNB()</pre></div></div></div></div></div>"
      ],
      "text/plain": [
       "MultinomialNB()"
      ]
     },
     "execution_count": 23,
     "metadata": {},
     "output_type": "execute_result"
    }
   ],
   "source": [
    "from sklearn.naive_bayes import MultinomialNB\n",
    "\n",
    "# Initialize and train the MNB classifier\n",
    "mnb_classifier = MultinomialNB()\n",
    "mnb_classifier.fit(X_train, y_train)\n",
    "\n",
    "MultinomialNB\n",
    "MultinomialNB()"
   ]
  },
  {
   "cell_type": "code",
   "execution_count": 24,
   "metadata": {},
   "outputs": [
    {
     "name": "stdout",
     "output_type": "stream",
     "text": [
      "WARNING:tensorflow:From c:\\Users\\igboj\\anaconda3\\Lib\\site-packages\\keras\\src\\losses.py:2976: The name tf.losses.sparse_softmax_cross_entropy is deprecated. Please use tf.compat.v1.losses.sparse_softmax_cross_entropy instead.\n",
      "\n"
     ]
    }
   ],
   "source": [
    "import tensorflow as tf\n",
    "from tensorflow.keras import backend as K"
   ]
  },
  {
   "cell_type": "code",
   "execution_count": 25,
   "metadata": {},
   "outputs": [
    {
     "name": "stdout",
     "output_type": "stream",
     "text": [
      "env: TF_CPP_MIN_LOG_LEVEL=0\n"
     ]
    }
   ],
   "source": [
    "%env TF_CPP_MIN_LOG_LEVEL=0"
   ]
  },
  {
   "cell_type": "code",
   "execution_count": 26,
   "metadata": {},
   "outputs": [
    {
     "name": "stdout",
     "output_type": "stream",
     "text": [
      "WARNING:tensorflow:From c:\\Users\\igboj\\anaconda3\\Lib\\site-packages\\keras\\src\\backend.py:277: The name tf.reset_default_graph is deprecated. Please use tf.compat.v1.reset_default_graph instead.\n",
      "\n"
     ]
    }
   ],
   "source": [
    "from tensorflow.keras.preprocessing.text import Tokenizer\n",
    "\n",
    "K.clear_session()\n",
    "\n",
    "max_words = 10000  # Maximum number of words to keep in the vocabulary\n",
    "max_len = 100  # Maximum length of input sequences\n",
    "\n",
    "# tokenize the training data set\n",
    "tokenizer = Tokenizer(num_words=max_words, oov_token=\"<OOV>\")\n",
    "tokenizer.fit_on_texts(x_train)"
   ]
  },
  {
   "cell_type": "code",
   "execution_count": 27,
   "metadata": {},
   "outputs": [
    {
     "data": {
      "text/html": [
       "<style>#sk-container-id-2 {color: black;}#sk-container-id-2 pre{padding: 0;}#sk-container-id-2 div.sk-toggleable {background-color: white;}#sk-container-id-2 label.sk-toggleable__label {cursor: pointer;display: block;width: 100%;margin-bottom: 0;padding: 0.3em;box-sizing: border-box;text-align: center;}#sk-container-id-2 label.sk-toggleable__label-arrow:before {content: \"▸\";float: left;margin-right: 0.25em;color: #696969;}#sk-container-id-2 label.sk-toggleable__label-arrow:hover:before {color: black;}#sk-container-id-2 div.sk-estimator:hover label.sk-toggleable__label-arrow:before {color: black;}#sk-container-id-2 div.sk-toggleable__content {max-height: 0;max-width: 0;overflow: hidden;text-align: left;background-color: #f0f8ff;}#sk-container-id-2 div.sk-toggleable__content pre {margin: 0.2em;color: black;border-radius: 0.25em;background-color: #f0f8ff;}#sk-container-id-2 input.sk-toggleable__control:checked~div.sk-toggleable__content {max-height: 200px;max-width: 100%;overflow: auto;}#sk-container-id-2 input.sk-toggleable__control:checked~label.sk-toggleable__label-arrow:before {content: \"▾\";}#sk-container-id-2 div.sk-estimator input.sk-toggleable__control:checked~label.sk-toggleable__label {background-color: #d4ebff;}#sk-container-id-2 div.sk-label input.sk-toggleable__control:checked~label.sk-toggleable__label {background-color: #d4ebff;}#sk-container-id-2 input.sk-hidden--visually {border: 0;clip: rect(1px 1px 1px 1px);clip: rect(1px, 1px, 1px, 1px);height: 1px;margin: -1px;overflow: hidden;padding: 0;position: absolute;width: 1px;}#sk-container-id-2 div.sk-estimator {font-family: monospace;background-color: #f0f8ff;border: 1px dotted black;border-radius: 0.25em;box-sizing: border-box;margin-bottom: 0.5em;}#sk-container-id-2 div.sk-estimator:hover {background-color: #d4ebff;}#sk-container-id-2 div.sk-parallel-item::after {content: \"\";width: 100%;border-bottom: 1px solid gray;flex-grow: 1;}#sk-container-id-2 div.sk-label:hover label.sk-toggleable__label {background-color: #d4ebff;}#sk-container-id-2 div.sk-serial::before {content: \"\";position: absolute;border-left: 1px solid gray;box-sizing: border-box;top: 0;bottom: 0;left: 50%;z-index: 0;}#sk-container-id-2 div.sk-serial {display: flex;flex-direction: column;align-items: center;background-color: white;padding-right: 0.2em;padding-left: 0.2em;position: relative;}#sk-container-id-2 div.sk-item {position: relative;z-index: 1;}#sk-container-id-2 div.sk-parallel {display: flex;align-items: stretch;justify-content: center;background-color: white;position: relative;}#sk-container-id-2 div.sk-item::before, #sk-container-id-2 div.sk-parallel-item::before {content: \"\";position: absolute;border-left: 1px solid gray;box-sizing: border-box;top: 0;bottom: 0;left: 50%;z-index: -1;}#sk-container-id-2 div.sk-parallel-item {display: flex;flex-direction: column;z-index: 1;position: relative;background-color: white;}#sk-container-id-2 div.sk-parallel-item:first-child::after {align-self: flex-end;width: 50%;}#sk-container-id-2 div.sk-parallel-item:last-child::after {align-self: flex-start;width: 50%;}#sk-container-id-2 div.sk-parallel-item:only-child::after {width: 0;}#sk-container-id-2 div.sk-dashed-wrapped {border: 1px dashed gray;margin: 0 0.4em 0.5em 0.4em;box-sizing: border-box;padding-bottom: 0.4em;background-color: white;}#sk-container-id-2 div.sk-label label {font-family: monospace;font-weight: bold;display: inline-block;line-height: 1.2em;}#sk-container-id-2 div.sk-label-container {text-align: center;}#sk-container-id-2 div.sk-container {/* jupyter's `normalize.less` sets `[hidden] { display: none; }` but bootstrap.min.css set `[hidden] { display: none !important; }` so we also need the `!important` here to be able to override the default hidden behavior on the sphinx rendered scikit-learn.org. See: https://github.com/scikit-learn/scikit-learn/issues/21755 */display: inline-block !important;position: relative;}#sk-container-id-2 div.sk-text-repr-fallback {display: none;}</style><div id=\"sk-container-id-2\" class=\"sk-top-container\"><div class=\"sk-text-repr-fallback\"><pre>MultinomialNB()</pre><b>In a Jupyter environment, please rerun this cell to show the HTML representation or trust the notebook. <br />On GitHub, the HTML representation is unable to render, please try loading this page with nbviewer.org.</b></div><div class=\"sk-container\" hidden><div class=\"sk-item\"><div class=\"sk-estimator sk-toggleable\"><input class=\"sk-toggleable__control sk-hidden--visually\" id=\"sk-estimator-id-2\" type=\"checkbox\" checked><label for=\"sk-estimator-id-2\" class=\"sk-toggleable__label sk-toggleable__label-arrow\">MultinomialNB</label><div class=\"sk-toggleable__content\"><pre>MultinomialNB()</pre></div></div></div></div></div>"
      ],
      "text/plain": [
       "MultinomialNB()"
      ]
     },
     "execution_count": 27,
     "metadata": {},
     "output_type": "execute_result"
    }
   ],
   "source": [
    "from sklearn.naive_bayes import MultinomialNB\n",
    "\n",
    "# Initialize and train the MNB classifier\n",
    "mnb_classifier = MultinomialNB()\n",
    "mnb_classifier.fit(X_train, y_train)"
   ]
  },
  {
   "cell_type": "code",
   "execution_count": 28,
   "metadata": {},
   "outputs": [],
   "source": [
    "import tensorflow as tf\n",
    "from tensorflow.keras import backend as K"
   ]
  },
  {
   "cell_type": "code",
   "execution_count": 29,
   "metadata": {},
   "outputs": [
    {
     "name": "stdout",
     "output_type": "stream",
     "text": [
      "env: TF_CPP_MIN_LOG_LEVEL=0\n"
     ]
    }
   ],
   "source": [
    "%env TF_CPP_MIN_LOG_LEVEL=0"
   ]
  },
  {
   "cell_type": "code",
   "execution_count": 30,
   "metadata": {},
   "outputs": [],
   "source": [
    "from tensorflow.keras.preprocessing.text import Tokenizer\n",
    "\n",
    "K.clear_session()\n",
    "\n",
    "max_words = 10000  # Maximum number of words to keep in the vocabulary\n",
    "max_len = 100  # Maximum length of input sequences\n",
    "\n",
    "# tokenize the training data set\n",
    "tokenizer = Tokenizer(num_words=max_words, oov_token=\"<OOV>\")\n",
    "tokenizer.fit_on_texts(x_train)"
   ]
  },
  {
   "cell_type": "code",
   "execution_count": 31,
   "metadata": {},
   "outputs": [],
   "source": [
    "from tensorflow.keras.preprocessing.sequence import pad_sequences\n",
    "\n",
    "X_train_sequence = pad_sequences(\n",
    "    tokenizer.texts_to_sequences(x_train),\n",
    "    maxlen=max_len,\n",
    "    padding='post'\n",
    ")\n",
    "\n",
    "X_test_sequence = pad_sequences(\n",
    "    tokenizer.texts_to_sequences(x_test),\n",
    "    maxlen=max_len,\n",
    "    padding='post'\n",
    ")"
   ]
  },
  {
   "cell_type": "code",
   "execution_count": 32,
   "metadata": {},
   "outputs": [
    {
     "name": "stdout",
     "output_type": "stream",
     "text": [
      "WARNING:tensorflow:From c:\\Users\\igboj\\anaconda3\\Lib\\site-packages\\keras\\src\\optimizers\\__init__.py:309: The name tf.train.Optimizer is deprecated. Please use tf.compat.v1.train.Optimizer instead.\n",
      "\n",
      "Model: \"sequential\"\n",
      "_________________________________________________________________\n",
      " Layer (type)                Output Shape              Param #   \n",
      "=================================================================\n",
      " embedding (Embedding)       (None, None, 128)         1280000   \n",
      "                                                                 \n",
      " conv1d (Conv1D)             (None, None, 128)         82048     \n",
      "                                                                 \n",
      " spatial_dropout1d (Spatial  (None, None, 128)         0         \n",
      " Dropout1D)                                                      \n",
      "                                                                 \n",
      " lstm (LSTM)                 (None, 128)               131584    \n",
      "                                                                 \n",
      " dense (Dense)               (None, 32)                4128      \n",
      "                                                                 \n",
      " dense_1 (Dense)             (None, 1)                 33        \n",
      "                                                                 \n",
      "=================================================================\n",
      "Total params: 1497793 (5.71 MB)\n",
      "Trainable params: 1497793 (5.71 MB)\n",
      "Non-trainable params: 0 (0.00 Byte)\n",
      "_________________________________________________________________\n"
     ]
    }
   ],
   "source": [
    "from tensorflow.keras.models import Sequential\n",
    "from tensorflow.keras.layers import Conv1D, Dense, Embedding, LSTM, SpatialDropout1D\n",
    "\n",
    "# Instantiate and build the LSTM model\n",
    "tf_model = Sequential()\n",
    "tf_model.add(Embedding(input_dim=max_words, output_dim=128))\n",
    "tf_model.add(Conv1D(128, 5, activation='relu'))\n",
    "tf_model.add(SpatialDropout1D(0.4))\n",
    "tf_model.add(LSTM(units=128, recurrent_dropout=0.2, dropout=0.2))\n",
    "tf_model.add(Dense(units=32, activation='relu'))\n",
    "tf_model.add(Dense(units=1, activation='sigmoid'))\n",
    "tf_model.compile(optimizer='adam', loss='binary_crossentropy', metrics=['accuracy'])\n",
    "\n",
    "# Print the tensorflow model summary\n",
    "tf_model.summary()"
   ]
  },
  {
   "cell_type": "code",
   "execution_count": 33,
   "metadata": {},
   "outputs": [
    {
     "name": "stdout",
     "output_type": "stream",
     "text": [
      "Epoch 1/5\n",
      "WARNING:tensorflow:From c:\\Users\\igboj\\anaconda3\\Lib\\site-packages\\keras\\src\\utils\\tf_utils.py:492: The name tf.ragged.RaggedTensorValue is deprecated. Please use tf.compat.v1.ragged.RaggedTensorValue instead.\n",
      "\n",
      "WARNING:tensorflow:From c:\\Users\\igboj\\anaconda3\\Lib\\site-packages\\keras\\src\\engine\\base_layer_utils.py:384: The name tf.executing_eagerly_outside_functions is deprecated. Please use tf.compat.v1.executing_eagerly_outside_functions instead.\n",
      "\n",
      "875/875 [==============================] - 194s 216ms/step - loss: 0.4706 - accuracy: 0.7608 - val_loss: 0.3348 - val_accuracy: 0.8620\n",
      "Epoch 2/5\n",
      "875/875 [==============================] - 176s 201ms/step - loss: 0.2720 - accuracy: 0.8899 - val_loss: 0.3291 - val_accuracy: 0.8577\n",
      "Epoch 3/5\n",
      "875/875 [==============================] - 171s 195ms/step - loss: 0.2097 - accuracy: 0.9202 - val_loss: 0.3241 - val_accuracy: 0.8637\n",
      "Epoch 4/5\n",
      "875/875 [==============================] - 172s 196ms/step - loss: 0.1621 - accuracy: 0.9426 - val_loss: 0.3768 - val_accuracy: 0.8619\n",
      "Epoch 5/5\n",
      "258/875 [=======>......................] - ETA: 1:48 - loss: 0.1067 - accuracy: 0.9650"
     ]
    }
   ],
   "source": [
    "history = tf_model.fit(X_train_sequence, y_train, \n",
    "            epochs=5, \n",
    "            batch_size=32, \n",
    "            validation_split=0.2\n",
    ")"
   ]
  },
  {
   "cell_type": "code",
   "execution_count": null,
   "metadata": {},
   "outputs": [],
   "source": [
    "from sklearn.metrics import classification_report, accuracy_score"
   ]
  },
  {
   "cell_type": "code",
   "execution_count": null,
   "metadata": {},
   "outputs": [],
   "source": [
    "# Predict the sentiment for the test set with the Naive Bayes classifier model\n",
    "mnb_predictions = mnb_classifier.predict(X_test)\n",
    "\n",
    "mnb_score = accuracy_score(y_test, mnb_predictions, normalize=True)\n",
    "\n",
    "print(f'Naive Bayes model Accuracy Score: {mnb_score * 100:.2f}% \\n')\n",
    "\n",
    "print('Naive Bayes model Classification Report:\\n')\n",
    "\n",
    "print(classification_report(y_test, mnb_predictions, target_names=['negative', 'positive']))"
   ]
  },
  {
   "cell_type": "code",
   "execution_count": null,
   "metadata": {},
   "outputs": [],
   "source": [
    "# Test and score the tensorflow model on test data sequence\n",
    "loss, tf_accuracy = tf_model.evaluate(X_test_sequence, y_test)\n",
    "\n",
    "tf_predictions = (tf_model.predict(X_test_sequence)>=0.5).astype(int)"
   ]
  },
  {
   "cell_type": "code",
   "execution_count": null,
   "metadata": {},
   "outputs": [],
   "source": [
    "print(f'LSTM model Accuracy Score: {tf_accuracy * 100:.2f}%\\n')\n",
    "\n",
    "print('LSTM model Classification Report:\\n')\n",
    "\n",
    "print(classification_report(y_test, tf_predictions, target_names=['negative', 'positive']))"
   ]
  },
  {
   "cell_type": "markdown",
   "metadata": {},
   "source": [
    "The LSTM deep learning model, developed using TensorFlow, exhibits a marginally superior accuracy rate of 85.91% compared to the Multinomial Naive Bayes model's accuracy rate of 85.45%.\n",
    "\n",
    "In terms of performance metrics, the deep learning model demonstrates a precision and recall of 86%, whereas the classifier model achieves a precision of 87% and a recall of 83%.\n",
    "\n",
    "Overall, both models display similar performance, and they have the potential for further enhancement through hyperparameter tuning and additional training to achieve even greater accuracy."
   ]
  }
 ],
 "metadata": {
  "kernelspec": {
   "display_name": "base",
   "language": "python",
   "name": "python3"
  },
  "language_info": {
   "codemirror_mode": {
    "name": "ipython",
    "version": 3
   },
   "file_extension": ".py",
   "mimetype": "text/x-python",
   "name": "python",
   "nbconvert_exporter": "python",
   "pygments_lexer": "ipython3",
   "version": "3.11.5"
  }
 },
 "nbformat": 4,
 "nbformat_minor": 2
}
